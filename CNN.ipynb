{
  "nbformat": 4,
  "nbformat_minor": 0,
  "metadata": {
    "colab": {
      "name": "CNN.ipynb",
      "provenance": [],
      "collapsed_sections": []
    },
    "kernelspec": {
      "name": "python3",
      "display_name": "Python 3"
    },
    "language_info": {
      "name": "python"
    }
  },
  "cells": [
    {
      "cell_type": "markdown",
      "metadata": {
        "id": "_RwKo7I34F_0"
      },
      "source": [
        "必要なライブラリのインポート"
      ]
    },
    {
      "cell_type": "code",
      "metadata": {
        "id": "VNAiEC1S39Qr"
      },
      "source": [
        "import tensorflow as tf\n",
        "from tensorflow.keras import layers, models,optimizers,losses\n",
        "import scipy.io\n",
        "import numpy as np"
      ],
      "execution_count": 96,
      "outputs": []
    },
    {
      "cell_type": "markdown",
      "metadata": {
        "id": "_xkbqxLu6J2o"
      },
      "source": [
        "GoogleDriveをマウント"
      ]
    },
    {
      "cell_type": "code",
      "metadata": {
        "colab": {
          "base_uri": "https://localhost:8080/"
        },
        "id": "gnMDcWe76LZF",
        "outputId": "e75769e1-7cec-4266-f72b-76a72f86c123"
      },
      "source": [
        "from google.colab import drive\n",
        "drive.mount('/content/drive')"
      ],
      "execution_count": 2,
      "outputs": [
        {
          "output_type": "stream",
          "text": [
            "Mounted at /content/drive\n"
          ],
          "name": "stdout"
        }
      ]
    },
    {
      "cell_type": "markdown",
      "metadata": {
        "id": "fIXSgj7D5eqz"
      },
      "source": [
        "データの読み込み"
      ]
    },
    {
      "cell_type": "code",
      "metadata": {
        "colab": {
          "base_uri": "https://localhost:8080/"
        },
        "id": "SN5EfYTF5lWJ",
        "outputId": "b0905477-1fb0-460d-a631-f20508afd679"
      },
      "source": [
        "data=scipy.io.loadmat('/content/drive/MyDrive/Colab Notebooks/ml_class/usps_resampled/usps.mat')"
      ],
      "execution_count": 97,
      "outputs": [
        {
          "output_type": "execute_result",
          "data": {
            "text/plain": [
              "dict_keys(['__header__', '__version__', '__globals__', 'test', 'trai', 'test_label', 'trai_label'])"
            ]
          },
          "metadata": {
            "tags": []
          },
          "execution_count": 97
        }
      ]
    },
    {
      "cell_type": "markdown",
      "metadata": {
        "id": "kYxxD-tc6hOk"
      },
      "source": [
        "データの整形"
      ]
    },
    {
      "cell_type": "code",
      "metadata": {
        "colab": {
          "base_uri": "https://localhost:8080/"
        },
        "id": "fIZH9v4e6kXG",
        "outputId": "29fe6573-552b-4594-9879-7a494c6c3af4"
      },
      "source": [
        "trai=data['trai'].reshape(1,-1,order='F').reshape(4649,16,16)\n",
        "test=data['test'].reshape(1,-1,order='F').reshape(4649,16,16)\n",
        "trai_label = data['trai_label']\n",
        "test_label = data['test_label']"
      ],
      "execution_count": 98,
      "outputs": [
        {
          "output_type": "execute_result",
          "data": {
            "text/plain": [
              "(4649, 16, 16)"
            ]
          },
          "metadata": {
            "tags": []
          },
          "execution_count": 98
        }
      ]
    },
    {
      "cell_type": "markdown",
      "metadata": {
        "id": "PcPWgi5QGshG"
      },
      "source": [
        "モデルの構築"
      ]
    },
    {
      "cell_type": "code",
      "metadata": {
        "colab": {
          "base_uri": "https://localhost:8080/"
        },
        "id": "K4Am3SriGv37",
        "outputId": "2340bf22-9708-474e-dc6f-b0bd8a1ff028"
      },
      "source": [
        "model=models.Sequential()\n",
        "model.add(layers.Reshape((16,16,1),input_shape=(16,16)))\n",
        "\n",
        "# 畳み込み処理１回目（Conv）\n",
        "model.add(layers.Conv2D(32, (5, 5), activation='relu', input_shape=(16, 16, 1)))\n",
        "\n",
        "# 畳み込み処理２回目（Conv→Pool）\n",
        "model.add(layers.Conv2D(32, (3, 3), activation='relu'))\n",
        "model.add(layers.MaxPooling2D((2, 2)))\n",
        "\n",
        "# 全結合層と出力層（Flatten→Dense→Dropout→Dense）\n",
        "model.add(layers.Flatten())\n",
        "model.add(layers.Dense(128, activation='relu'))\n",
        "model.add(layers.Dropout(0.3))\n",
        "model.add(layers.Dense(10, activation='softmax'))\n",
        "\n",
        "#モデルの概要を表示\n",
        "model.summary()"
      ],
      "execution_count": 104,
      "outputs": [
        {
          "output_type": "stream",
          "text": [
            "Model: \"sequential_30\"\n",
            "_________________________________________________________________\n",
            "Layer (type)                 Output Shape              Param #   \n",
            "=================================================================\n",
            "reshape_30 (Reshape)         (None, 16, 16, 1)         0         \n",
            "_________________________________________________________________\n",
            "conv2d_83 (Conv2D)           (None, 12, 12, 32)        832       \n",
            "_________________________________________________________________\n",
            "conv2d_84 (Conv2D)           (None, 10, 10, 32)        9248      \n",
            "_________________________________________________________________\n",
            "max_pooling2d_45 (MaxPooling (None, 5, 5, 32)          0         \n",
            "_________________________________________________________________\n",
            "flatten_24 (Flatten)         (None, 800)               0         \n",
            "_________________________________________________________________\n",
            "dense_48 (Dense)             (None, 128)               102528    \n",
            "_________________________________________________________________\n",
            "dropout_44 (Dropout)         (None, 128)               0         \n",
            "_________________________________________________________________\n",
            "dense_49 (Dense)             (None, 10)                1290      \n",
            "=================================================================\n",
            "Total params: 113,898\n",
            "Trainable params: 113,898\n",
            "Non-trainable params: 0\n",
            "_________________________________________________________________\n"
          ],
          "name": "stdout"
        }
      ]
    },
    {
      "cell_type": "markdown",
      "metadata": {
        "id": "8abQBfc0IzBG"
      },
      "source": [
        "モデルのコンパイルと学習"
      ]
    },
    {
      "cell_type": "code",
      "metadata": {
        "colab": {
          "base_uri": "https://localhost:8080/"
        },
        "id": "xv7LlrWgI19e",
        "outputId": "4a5efc92-675b-4935-db49-1d5a02e59083"
      },
      "source": [
        "model.compile(optimizer=optimizers.RMSprop(),\n",
        "                loss=losses.sparse_categorical_crossentropy,\n",
        "                metrics=['accuracy'])\n",
        "model.fit(trai,trai_label,batch_size=32,epochs=20,validation_data=(test,test_label))"
      ],
      "execution_count": 106,
      "outputs": [
        {
          "output_type": "stream",
          "text": [
            "Epoch 1/20\n",
            "146/146 [==============================] - 4s 21ms/step - loss: 0.6079 - accuracy: 0.8133 - val_loss: 0.2300 - val_accuracy: 0.9307\n",
            "Epoch 2/20\n",
            "146/146 [==============================] - 3s 20ms/step - loss: 0.2160 - accuracy: 0.9333 - val_loss: 0.1720 - val_accuracy: 0.9492\n",
            "Epoch 3/20\n",
            "146/146 [==============================] - 3s 20ms/step - loss: 0.1529 - accuracy: 0.9542 - val_loss: 0.1115 - val_accuracy: 0.9652\n",
            "Epoch 4/20\n",
            "146/146 [==============================] - 3s 20ms/step - loss: 0.1182 - accuracy: 0.9660 - val_loss: 0.1200 - val_accuracy: 0.9615\n",
            "Epoch 5/20\n",
            "146/146 [==============================] - 3s 20ms/step - loss: 0.0936 - accuracy: 0.9699 - val_loss: 0.0936 - val_accuracy: 0.9718\n",
            "Epoch 6/20\n",
            "146/146 [==============================] - 3s 20ms/step - loss: 0.0847 - accuracy: 0.9753 - val_loss: 0.0996 - val_accuracy: 0.9695\n",
            "Epoch 7/20\n",
            "146/146 [==============================] - 3s 20ms/step - loss: 0.0741 - accuracy: 0.9772 - val_loss: 0.0735 - val_accuracy: 0.9766\n",
            "Epoch 8/20\n",
            "146/146 [==============================] - 3s 21ms/step - loss: 0.0629 - accuracy: 0.9841 - val_loss: 0.0784 - val_accuracy: 0.9774\n",
            "Epoch 9/20\n",
            "146/146 [==============================] - 3s 20ms/step - loss: 0.0572 - accuracy: 0.9826 - val_loss: 0.0803 - val_accuracy: 0.9785\n",
            "Epoch 10/20\n",
            "146/146 [==============================] - 3s 21ms/step - loss: 0.0501 - accuracy: 0.9847 - val_loss: 0.0748 - val_accuracy: 0.9761\n",
            "Epoch 11/20\n",
            "146/146 [==============================] - 3s 20ms/step - loss: 0.0456 - accuracy: 0.9860 - val_loss: 0.0705 - val_accuracy: 0.9783\n",
            "Epoch 12/20\n",
            "146/146 [==============================] - 3s 20ms/step - loss: 0.0376 - accuracy: 0.9886 - val_loss: 0.0878 - val_accuracy: 0.9759\n",
            "Epoch 13/20\n",
            "146/146 [==============================] - 3s 21ms/step - loss: 0.0346 - accuracy: 0.9903 - val_loss: 0.0752 - val_accuracy: 0.9778\n",
            "Epoch 14/20\n",
            "146/146 [==============================] - 3s 21ms/step - loss: 0.0357 - accuracy: 0.9890 - val_loss: 0.0804 - val_accuracy: 0.9798\n",
            "Epoch 15/20\n",
            "146/146 [==============================] - 3s 20ms/step - loss: 0.0316 - accuracy: 0.9892 - val_loss: 0.0684 - val_accuracy: 0.9802\n",
            "Epoch 16/20\n",
            "146/146 [==============================] - 3s 20ms/step - loss: 0.0299 - accuracy: 0.9918 - val_loss: 0.0670 - val_accuracy: 0.9826\n",
            "Epoch 17/20\n",
            "146/146 [==============================] - 3s 21ms/step - loss: 0.0264 - accuracy: 0.9905 - val_loss: 0.0838 - val_accuracy: 0.9789\n",
            "Epoch 18/20\n",
            "146/146 [==============================] - 3s 20ms/step - loss: 0.0226 - accuracy: 0.9940 - val_loss: 0.0843 - val_accuracy: 0.9778\n",
            "Epoch 19/20\n",
            "146/146 [==============================] - 3s 20ms/step - loss: 0.0242 - accuracy: 0.9931 - val_loss: 0.0702 - val_accuracy: 0.9824\n",
            "Epoch 20/20\n",
            "146/146 [==============================] - 4s 25ms/step - loss: 0.0198 - accuracy: 0.9955 - val_loss: 0.0740 - val_accuracy: 0.9824\n"
          ],
          "name": "stdout"
        },
        {
          "output_type": "execute_result",
          "data": {
            "text/plain": [
              "<tensorflow.python.keras.callbacks.History at 0x7f4b90084c50>"
            ]
          },
          "metadata": {
            "tags": []
          },
          "execution_count": 106
        }
      ]
    },
    {
      "cell_type": "markdown",
      "metadata": {
        "id": "I9uNNXqKL6MA"
      },
      "source": [
        "モデルの評価"
      ]
    },
    {
      "cell_type": "code",
      "metadata": {
        "colab": {
          "base_uri": "https://localhost:8080/"
        },
        "id": "jkOuzk2BL8RI",
        "outputId": "25138157-473b-4df6-a329-6aa405973f30"
      },
      "source": [
        "loss,accuracy = model.evaluate(test, test_label)"
      ],
      "execution_count": 107,
      "outputs": [
        {
          "output_type": "stream",
          "text": [
            "146/146 [==============================] - 1s 5ms/step - loss: 0.0740 - accuracy: 0.9824\n"
          ],
          "name": "stdout"
        }
      ]
    },
    {
      "cell_type": "markdown",
      "metadata": {
        "id": "z1Q6jCNPMYeB"
      },
      "source": [
        "混同行列の作成"
      ]
    },
    {
      "cell_type": "code",
      "metadata": {
        "colab": {
          "base_uri": "https://localhost:8080/"
        },
        "id": "9p02mrhSMYKc",
        "outputId": "ab2ef092-f42c-403c-f8f0-02c344a2c6b6"
      },
      "source": [
        "test_pred = tf.argmax(model.predict(test), axis=-1).numpy()\n",
        "CONF=tf.math.confusion_matrix(test_label, test_pred)\n",
        "print(CONF)\n",
        "print('accuracy=',round(accuracy*100,2),sep='')"
      ],
      "execution_count": 108,
      "outputs": [
        {
          "output_type": "stream",
          "text": [
            "tf.Tensor(\n",
            "[[772   0   4   0   4   3   1   0   1   1]\n",
            " [  0 646   0   0   0   0   0   0   1   0]\n",
            " [  3   1 442   0   4   2   0   2   0   0]\n",
            " [  0   0   1 405   0  11   0   0   0   1]\n",
            " [  0   1   0   0 441   1   0   0   0   0]\n",
            " [  0   0   0   3   0 349   1   1   0   1]\n",
            " [  1   0   0   0   5   2 406   0   0   0]\n",
            " [  0   1   2   0   1   0   0 394   1   3]\n",
            " [  3   2   1   0   2   1   1   1 320   0]\n",
            " [  0   0   0   0   1   2   0   3   1 392]], shape=(10, 10), dtype=int32)\n",
            "accuracy=98.24\n"
          ],
          "name": "stdout"
        }
      ]
    }
  ]
}